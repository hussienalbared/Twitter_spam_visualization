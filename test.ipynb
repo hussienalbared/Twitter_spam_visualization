{
 "cells": [
  {
   "cell_type": "code",
   "execution_count": 1,
   "metadata": {},
   "outputs": [
    {
     "ename": "ModuleNotFoundError",
     "evalue": "No module named 'pandas'",
     "output_type": "error",
     "traceback": [
      "\u001b[1;31m---------------------------------------------------------------------------\u001b[0m",
      "\u001b[1;31mModuleNotFoundError\u001b[0m                       Traceback (most recent call last)",
      "Cell \u001b[1;32mIn[1], line 1\u001b[0m\n\u001b[1;32m----> 1\u001b[0m \u001b[39mimport\u001b[39;00m \u001b[39mpandas\u001b[39;00m \u001b[39mas\u001b[39;00m \u001b[39mpd\u001b[39;00m\n\u001b[0;32m      2\u001b[0m \u001b[39mfrom\u001b[39;00m \u001b[39mflask\u001b[39;00m \u001b[39mimport\u001b[39;00m  render_template\n\u001b[0;32m      3\u001b[0m \u001b[39mimport\u001b[39;00m \u001b[39mcsv\u001b[39;00m\n",
      "\u001b[1;31mModuleNotFoundError\u001b[0m: No module named 'pandas'"
     ]
    }
   ],
   "source": [
    "import pandas as pd\n",
    "from flask import  render_template\n",
    "import csv\n",
    "from flask import Flask\n",
    "import pandas as pd\n",
    "app = Flask(__name__)\n",
    "import sys\n",
    "print(sys.executable)\n",
    "import matplotlib\n",
    "matplotlib.use('Agg')\n",
    "\n",
    "import matplotlib.pyplot as plt\n",
    "from io import BytesIO\n",
    "import base64"
   ]
  },
  {
   "cell_type": "code",
   "execution_count": null,
   "metadata": {},
   "outputs": [],
   "source": [
    "df = pd.read_csv('data.csv',sep=\"\\t\")"
   ]
  },
  {
   "cell_type": "code",
   "execution_count": null,
   "metadata": {},
   "outputs": [],
   "source": [
    "# df.head()"
   ]
  },
  {
   "cell_type": "code",
   "execution_count": null,
   "metadata": {},
   "outputs": [],
   "source": [
    "n_by_state = df.groupby(\"date\")[\"output\"].count()\n",
    "n_by_state.index.tolist()\n",
    "# n_by_state = df.groupby(\"date\")[\"output\"].count()\n",
    "\n",
    "\n"
   ]
  },
  {
   "cell_type": "code",
   "execution_count": null,
   "metadata": {},
   "outputs": [],
   "source": [
    "matplotlib.use('TkAgg')\n",
    "df = pd.read_csv('data.csv',sep=\"\\t\")\n",
    "\n",
    "df['Date'] = pd.to_datetime(df['date'])\n",
    "\n",
    "counts = df.groupby(['Date', 'output']).size().unstack(fill_value=0)\n",
    "print(counts)\n",
    "# print(counts.index.values)\n",
    "date_values =  [date.strftime('%Y-%m-%d') for date in counts.index]\n",
    "# print(date_values)\n",
    "\n",
    "fig, ax = plt.subplots(2)\n",
    "counts['yes'].plot(kind='bar', color='red',ax=ax[0], label='Spam')\n",
    "counts['no'].plot(kind='bar' ,ax=ax[1], color='green', label='Not Spam')\n",
    "ax[0].set_xticks(range(len(date_values)))\n",
    "ax[0].set_xticklabels(date_values)\n",
    "plt.tight_layout()\n",
    "plt.show()\n",
    "\n",
    "plt.axis('equal') \n",
    "img = BytesIO()\n",
    "plt.savefig(img, format='png')\n",
    "img.seek(0)\n",
    "\n",
    "# img_base64 = base64.b64encode(img.getvalue()).decode("
   ]
  }
 ],
 "metadata": {
  "kernelspec": {
   "display_name": "myenv",
   "language": "python",
   "name": "python3"
  },
  "language_info": {
   "codemirror_mode": {
    "name": "ipython",
    "version": 3
   },
   "file_extension": ".py",
   "mimetype": "text/x-python",
   "name": "python",
   "nbconvert_exporter": "python",
   "pygments_lexer": "ipython3",
   "version": "3.11.4"
  },
  "orig_nbformat": 4
 },
 "nbformat": 4,
 "nbformat_minor": 2
}
