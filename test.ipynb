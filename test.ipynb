{
 "cells": [
  {
   "cell_type": "code",
   "execution_count": 16,
   "metadata": {},
   "outputs": [
    {
     "name": "stdout",
     "output_type": "stream",
     "text": [
      "c:\\Users\\HUSSEIN AHMED\\miniconda3\\envs\\myenv\\python.exe\n"
     ]
    }
   ],
   "source": [
    "import pandas as pd\n",
    "from flask import  render_template\n",
    "import csv\n",
    "from flask import Flask\n",
    "import pandas as pd\n",
    "app = Flask(__name__)\n",
    "import sys\n",
    "print(sys.executable)\n",
    "import matplotlib\n",
    "matplotlib.use('Agg')\n",
    "\n",
    "import matplotlib.pyplot as plt\n",
    "from io import BytesIO\n",
    "import base64"
   ]
  },
  {
   "cell_type": "code",
   "execution_count": 17,
   "metadata": {},
   "outputs": [],
   "source": [
    "df = pd.read_csv('data.csv',sep=\"\\t\")"
   ]
  },
  {
   "cell_type": "code",
   "execution_count": 18,
   "metadata": {},
   "outputs": [],
   "source": [
    "# df.head()"
   ]
  },
  {
   "cell_type": "code",
   "execution_count": 19,
   "metadata": {},
   "outputs": [
    {
     "data": {
      "text/plain": [
       "['2019-03-10', '2020-11-25', '2021-06-30', '2022-08-15', '2023-01-01']"
      ]
     },
     "execution_count": 19,
     "metadata": {},
     "output_type": "execute_result"
    }
   ],
   "source": [
    "n_by_state = df.groupby(\"date\")[\"output\"].count()\n",
    "n_by_state.index.tolist()\n",
    "# n_by_state = df.groupby(\"date\")[\"output\"].count()\n",
    "\n",
    "\n"
   ]
  },
  {
   "cell_type": "code",
   "execution_count": 26,
   "metadata": {},
   "outputs": [
    {
     "name": "stdout",
     "output_type": "stream",
     "text": [
      "output      no  yes\n",
      "Date               \n",
      "2019-03-10  45  148\n",
      "2020-11-25  59  134\n",
      "2021-06-30  38  133\n",
      "2022-08-15  53  131\n",
      "2023-01-01  51  140\n"
     ]
    },
    {
     "data": {
      "text/plain": [
       "0"
      ]
     },
     "execution_count": 26,
     "metadata": {},
     "output_type": "execute_result"
    }
   ],
   "source": [
    "matplotlib.use('TkAgg')\n",
    "df = pd.read_csv('data.csv',sep=\"\\t\")\n",
    "\n",
    "df['Date'] = pd.to_datetime(df['date'])\n",
    "\n",
    "counts = df.groupby(['Date', 'output']).size().unstack(fill_value=0)\n",
    "print(counts)\n",
    "# print(counts.index.values)\n",
    "date_values =  [date.strftime('%Y-%m-%d') for date in counts.index]\n",
    "# print(date_values)\n",
    "\n",
    "fig, ax = plt.subplots(2)\n",
    "counts['yes'].plot(kind='bar', color='red',ax=ax[0], label='Spam')\n",
    "counts['no'].plot(kind='bar' ,ax=ax[1], color='green', label='Not Spam')\n",
    "ax[0].set_xticks(range(len(date_values)))\n",
    "ax[0].set_xticklabels(date_values)\n",
    "plt.tight_layout()\n",
    "plt.show()\n",
    "\n",
    "plt.axis('equal') \n",
    "img = BytesIO()\n",
    "plt.savefig(img, format='png')\n",
    "img.seek(0)\n",
    "\n",
    "# img_base64 = base64.b64encode(img.getvalue()).decode("
   ]
  }
 ],
 "metadata": {
  "kernelspec": {
   "display_name": "myenv",
   "language": "python",
   "name": "python3"
  },
  "language_info": {
   "codemirror_mode": {
    "name": "ipython",
    "version": 3
   },
   "file_extension": ".py",
   "mimetype": "text/x-python",
   "name": "python",
   "nbconvert_exporter": "python",
   "pygments_lexer": "ipython3",
   "version": "3.11.4"
  },
  "orig_nbformat": 4
 },
 "nbformat": 4,
 "nbformat_minor": 2
}
